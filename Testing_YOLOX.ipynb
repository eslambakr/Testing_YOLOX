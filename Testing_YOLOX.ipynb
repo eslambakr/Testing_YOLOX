{
 "cells": [
  {
   "cell_type": "markdown",
   "id": "3deaf829-31f3-44c9-bac1-f9b9cef88156",
   "metadata": {
    "tags": []
   },
   "source": [
    "# <font color='blue'>1- YOLOX visualizations:</font>"
   ]
  },
  {
   "cell_type": "markdown",
   "id": "491b1fee-afe4-47de-a179-cc42ede06773",
   "metadata": {
    "tags": []
   },
   "source": [
    "* Frankly, I didn't need to write a code to test the model as the orginal repository contains the whole needed codes, i.e., inference code for images, videos, and webcams.\n",
    "* However, I designed some corner cases to test the model roubstness. i.e., crowded, night, synthetic, and blured scences."
   ]
  },
  {
   "cell_type": "markdown",
   "id": "17cc9cae-980b-4746-9928-a992e51005d1",
   "metadata": {
    "tags": []
   },
   "source": [
    "------------------\n",
    "## Crowded Scences:"
   ]
  },
  {
   "cell_type": "markdown",
   "id": "43d09420-3394-4cf0-a173-dfd2312b29a2",
   "metadata": {},
   "source": [
    "A | B | C | D | E \n",
    "- | - | - | - | - \n",
    "<img src=\"assets/corner_cases_images/crowded/out_2.jpg\" width=\"400\" height=\"400\"/> | <img src=\"assets/corner_cases_images/crowded/out_3.jpg\" width=\"400\" height=\"400\"/> | <img src=\"assets/corner_cases_images/crowded/out_4.jpg\" width=\"400\" height=\"400\"/> | <img src=\"assets/corner_cases_images/crowded/out_5.jpg\" width=\"400\" height=\"400\"/> | <img src=\"assets/corner_cases_images/crowded/out_6.jpg\" width=\"400\" height=\"400\"/>"
   ]
  },
  {
   "cell_type": "markdown",
   "id": "4db588cc-1455-4834-b847-73375da7c7f1",
   "metadata": {},
   "source": [
    "-----------------------\n",
    "## Night Scences:"
   ]
  },
  {
   "cell_type": "markdown",
   "id": "3f0118a8-1a8a-4792-bcaf-0d3b642b4ede",
   "metadata": {},
   "source": [
    "A | B \n",
    "- | - \n",
    "<img src=\"assets/corner_cases_images/night/out1.jpg\" width=\"400\" height=\"400\"/> | <img src=\"assets/corner_cases_images/night/out_1.jpeg\" width=\"400\" height=\"400\"/>"
   ]
  },
  {
   "cell_type": "markdown",
   "id": "74ee95ce-70a9-44dd-bced-23c523352e18",
   "metadata": {
    "tags": []
   },
   "source": [
    "---------------------------\n",
    "## Synthetic Scences:"
   ]
  },
  {
   "cell_type": "markdown",
   "id": "e274eff7-9d83-499a-ac19-ccad67e51baa",
   "metadata": {},
   "source": [
    "A | B | C | D | E | F\n",
    "- | - | - | - | - | - \n",
    "<img src=\"assets/corner_cases_images/synthetic/out_1.jpg\" width=\"400\" height=\"400\"/> | <img src=\"assets/corner_cases_images/synthetic/out_2.jpeg\" width=\"400\" height=\"4200\"/> | <img src=\"assets/corner_cases_images/synthetic/out_3.jpg\" width=\"400\" height=\"400\"/> | <img src=\"assets/corner_cases_images/synthetic/out_4.jpg\" width=\"400\" height=\"400\"/> | <img src=\"assets/corner_cases_images/synthetic/out_8.jpg\" width=\"400\" height=\"400\"/> | <img src=\"assets/corner_cases_images/synthetic/out_7.jpg\" width=\"400\" height=\"400\"/>"
   ]
  },
  {
   "cell_type": "markdown",
   "id": "cf5fa25b-7aba-4cf7-90ea-1fd698e2d011",
   "metadata": {},
   "source": [
    "### <font color='red'>Failure cases:</font>"
   ]
  },
  {
   "cell_type": "markdown",
   "id": "cff4c937-8833-4a41-adc9-63ef1ec048ca",
   "metadata": {},
   "source": [
    "A | B \n",
    "- | - \n",
    "<img src=\"assets/corner_cases_images/synthetic/out_5.jpg\" width=\"400\" height=\"400\"/> | <img src=\"assets/corner_cases_images/crowded/out_8.jpg\" width=\"400\" height=\"400\"/>\n"
   ]
  },
  {
   "cell_type": "markdown",
   "id": "e162858b-9233-47d7-8e29-955a5827f68b",
   "metadata": {
    "tags": []
   },
   "source": [
    "---------------------------\n",
    "## Bluring Scences:"
   ]
  },
  {
   "cell_type": "markdown",
   "id": "c9ee3259-59cd-4c04-9614-c7aa10b06e9c",
   "metadata": {},
   "source": [
    "A | B \n",
    "- | - \n",
    "<img src=\"assets/corner_cases_images/bluring/out_3.jpg\" width=\"400\" height=\"400\"/> | <img src=\"assets/corner_cases_images/bluring/out_5.jpg\" width=\"400\" height=\"400\"/>"
   ]
  },
  {
   "cell_type": "markdown",
   "id": "9e1d2ebe-cc10-42b9-a574-b493e22abc77",
   "metadata": {},
   "source": [
    "### <font color='red'>Failure cases:</font>"
   ]
  },
  {
   "cell_type": "markdown",
   "id": "0bfd2145-e43a-48d8-a257-26366bcec3da",
   "metadata": {},
   "source": [
    "A | B \n",
    "- | - \n",
    "<img src=\"assets/corner_cases_images/bluring/out_2.jpeg\" width=\"400\" height=\"400\"/> | <img src=\"assets/corner_cases_images/bluring/out_4.jpeg\" width=\"400\" height=\"400\"/>"
   ]
  },
  {
   "cell_type": "markdown",
   "id": "1be48397-0ce1-45b1-8399-8e888656e79e",
   "metadata": {},
   "source": [
    "# <font color='blue'>2- YOLOX visualizations:</font>"
   ]
  }
 ],
 "metadata": {
  "kernelspec": {
   "display_name": "microsot_nni",
   "language": "python",
   "name": "microsot_nni"
  },
  "language_info": {
   "codemirror_mode": {
    "name": "ipython",
    "version": 3
   },
   "file_extension": ".py",
   "mimetype": "text/x-python",
   "name": "python",
   "nbconvert_exporter": "python",
   "pygments_lexer": "ipython3",
   "version": "3.7.6"
  }
 },
 "nbformat": 4,
 "nbformat_minor": 5
}
